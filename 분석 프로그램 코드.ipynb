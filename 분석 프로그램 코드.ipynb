{
 "cells": [
  {
   "cell_type": "code",
   "execution_count": 1,
   "metadata": {},
   "outputs": [],
   "source": [
    "import numpy as np\n",
    "import pandas as pd\n",
    "import matplotlib.pyplot as plt\n",
    "import warnings\n",
    "warnings.filterwarnings(\"ignore\")\n",
    "%matplotlib inline"
   ]
  },
  {
   "cell_type": "code",
   "execution_count": 2,
   "metadata": {},
   "outputs": [],
   "source": [
    "from sklearn.ensemble import RandomForestClassifier #Random Forest\n",
    "from lightgbm import LGBMClassifier\n",
    "from xgboost import XGBClassifier\n",
    "from imblearn.under_sampling import RandomUnderSampler\n",
    "from imblearn.over_sampling import SMOTE\n",
    "from sklearn.metrics import accuracy_score, precision_score , recall_score , confusion_matrix, f1_score\n",
    "from sklearn.model_selection import cross_val_score\n",
    "from bayes_opt import BayesianOptimization\n",
    "from sklearn.model_selection import train_test_split\n",
    "import seaborn as sns"
   ]
  },
  {
   "cell_type": "code",
   "execution_count": 3,
   "metadata": {},
   "outputs": [],
   "source": [
    "def get_clf_eval(y_test , pred):\n",
    "    confusion = confusion_matrix( y_test, pred)\n",
    "    accuracy = accuracy_score(y_test , pred)\n",
    "    precision = precision_score(y_test , pred)\n",
    "    recall = recall_score(y_test , pred)\n",
    "    csi= confusion_matrix(y_test, pred)[1][1] / (confusion_matrix( y_test, pred)[1][0] + confusion_matrix( y_test, pred)[0][1] + confusion_matrix( y_test, pred)[1][1])  \n",
    "    # F1 스코어 추가\n",
    "    f1 = f1_score(y_test,pred)\n",
    "    print('오차 행렬')\n",
    "    print(confusion)\n",
    "    # f1 score print 추가\n",
    "    print('정확도: {0:.4f}, 정밀도: {1:.4f}, 재현율: {2:.4f}, F1:{3:.4f}, csi:{3:.4f}'.format(accuracy, precision, recall, f1, csi))"
   ]
  },
  {
   "cell_type": "code",
   "execution_count": 4,
   "metadata": {},
   "outputs": [],
   "source": [
    "data = pd.read_csv('data.csv', encoding='euc_kr')\n",
    "val = pd.read_csv('val.csv', encoding='euc_kr')"
   ]
  },
  {
   "cell_type": "code",
   "execution_count": 5,
   "metadata": {},
   "outputs": [
    {
     "data": {
      "text/plain": [
       "Index(['date', 'sd', 'sgg', 'umd', 'aws_sum_rn', 'aws_sum_rn_dur',\n",
       "       'aws_hr1_max_rn', 'aws_avg_tca', 'aws_avg_ps', 'aws_max_ps',\n",
       "       'aws_min_ps', 'aws_avg_rhm', 'aws_min_rhm', 'aws_avg_ws', 'aws_max_ws',\n",
       "       'aws_max_ins_ws', 'asos_sum_rn', 'asos_avg_rhm', 'asos_avg_td',\n",
       "       'asos_avg_ws', 'diff1', 'diff2', 'diff3', 'diff4', 'diff5', 'diff6',\n",
       "       'diff7', 'diff8', 'diff9', 'diff10', 'diff11', 'diff12', 'diff13',\n",
       "       'diff14', 'diff15', 'diff16', 'diff2_1', 'diff2_2', 'diff2_3',\n",
       "       'diff2_4', 'diff2_5', 'diff2_6', 'diff2_7', 'diff2_8', 'diff2_9',\n",
       "       'diff2_10', 'diff2_11', 'diff2_12', 'diff2_13', 'diff2_14', 'diff2_15',\n",
       "       'diff2_16', 'storage_capacity', 'min_infiltration', 'porosity',\n",
       "       'infiltration', 'humidity_mean', 'humidity_max', 'rn_rn_dur',\n",
       "       'soil_moisture_mean', 'soil_moisture_min', 'soil_moisure_max',\n",
       "       'min_ALTT', 'max_ALTT', 'mean_ALTT', 'min_GRDN', 'max_GRDN',\n",
       "       'mean_GRDN', 'mode_PRRCK_LARG', 'mode_PRRCK_MDDL', 'mode_CLZN',\n",
       "       'mode_TRGRP', 'mode_SLDPT_TPCD', 'mode_FRTP_CD', 'mode_KOFTR_GROU',\n",
       "       'mode_LDMARK_STN', 'diff_LARG', 'mode_SCSTX', 'mode_SLTP', 'NRCS',\n",
       "       'soil_group', 'stormday', 'stormday1', 'stormday2', 'month', '1day_yn',\n",
       "       '2day_yn'],\n",
       "      dtype='object')"
      ]
     },
     "execution_count": 5,
     "metadata": {},
     "output_type": "execute_result"
    }
   ],
   "source": [
    "data.columns"
   ]
  },
  {
   "cell_type": "code",
   "execution_count": 6,
   "metadata": {},
   "outputs": [
    {
     "data": {
      "text/plain": [
       "Index(['date', 'sd', 'sgg', 'umd', 'aws_sum_rn', 'aws_sum_rn_dur',\n",
       "       'aws_hr1_max_rn', 'aws_avg_tca', 'aws_avg_ps', 'aws_max_ps',\n",
       "       'aws_min_ps', 'aws_avg_rhm', 'aws_min_rhm', 'aws_avg_ws', 'aws_max_ws',\n",
       "       'aws_max_ins_ws', 'asos_sum_rn', 'asos_avg_rhm', 'asos_avg_td',\n",
       "       'asos_avg_ws', 'diff1', 'diff2', 'diff3', 'diff4', 'diff5', 'diff6',\n",
       "       'diff7', 'diff8', 'diff9', 'diff10', 'diff11', 'diff12', 'diff13',\n",
       "       'diff14', 'diff15', 'diff16', 'diff2_1', 'diff2_2', 'diff2_3',\n",
       "       'diff2_4', 'diff2_5', 'diff2_6', 'diff2_7', 'diff2_8', 'diff2_9',\n",
       "       'diff2_10', 'diff2_11', 'diff2_12', 'diff2_13', 'diff2_14', 'diff2_15',\n",
       "       'diff2_16', 'storage_capacity', 'min_infiltration', 'porosity',\n",
       "       'infiltration', 'humidity_mean', 'humidity_max', 'rn_rn_dur',\n",
       "       'soil_moisture_mean', 'soil_moisture_min', 'soil_moisure_max',\n",
       "       'min_ALTT', 'max_ALTT', 'mean_ALTT', 'min_GRDN', 'max_GRDN',\n",
       "       'mean_GRDN', 'mode_PRRCK_LARG', 'mode_PRRCK_MDDL', 'mode_CLZN',\n",
       "       'mode_TRGRP', 'mode_SLDPT_TPCD', 'mode_FRTP_CD', 'mode_KOFTR_GROU',\n",
       "       'mode_LDMARK_STN', 'diff_LARG', 'mode_SCSTX', 'mode_SLTP', 'NRCS',\n",
       "       'soil_group', 'stormday', 'stormday1', 'stormday2', 'month', '1day_yn',\n",
       "       '2day_yn'],\n",
       "      dtype='object')"
      ]
     },
     "execution_count": 6,
     "metadata": {},
     "output_type": "execute_result"
    }
   ],
   "source": [
    "val.columns"
   ]
  },
  {
   "cell_type": "code",
   "execution_count": 7,
   "metadata": {},
   "outputs": [
    {
     "data": {
      "text/plain": [
       "((583358, 87), (3410, 87))"
      ]
     },
     "execution_count": 7,
     "metadata": {},
     "output_type": "execute_result"
    }
   ],
   "source": [
    "data.shape, val.shape"
   ]
  },
  {
   "cell_type": "code",
   "execution_count": 8,
   "metadata": {},
   "outputs": [],
   "source": [
    "val[['1day_yn']]=np.nan\n",
    "val[['2day_yn']]=np.nan"
   ]
  },
  {
   "cell_type": "markdown",
   "metadata": {},
   "source": [
    "### Outlier Detect"
   ]
  },
  {
   "cell_type": "code",
   "execution_count": 9,
   "metadata": {},
   "outputs": [],
   "source": [
    "data0=data[(data['1day_yn']==0) & (data['2day_yn']==0)]\n",
    "data1=data[(data['1day_yn']==1) | (data['2day_yn']==1)]"
   ]
  },
  {
   "cell_type": "code",
   "execution_count": 10,
   "metadata": {},
   "outputs": [
    {
     "data": {
      "text/plain": [
       "Index(['date', 'sd', 'sgg', 'umd', 'aws_sum_rn', 'aws_sum_rn_dur',\n",
       "       'aws_hr1_max_rn', 'aws_avg_tca', 'aws_avg_ps', 'aws_max_ps',\n",
       "       'aws_min_ps', 'aws_avg_rhm', 'aws_min_rhm', 'aws_avg_ws', 'aws_max_ws',\n",
       "       'aws_max_ins_ws', 'asos_sum_rn', 'asos_avg_rhm', 'asos_avg_td',\n",
       "       'asos_avg_ws', 'diff1', 'diff2', 'diff3', 'diff4', 'diff5', 'diff6',\n",
       "       'diff7', 'diff8', 'diff9', 'diff10', 'diff11', 'diff12', 'diff13',\n",
       "       'diff14', 'diff15', 'diff16', 'diff2_1', 'diff2_2', 'diff2_3',\n",
       "       'diff2_4', 'diff2_5', 'diff2_6', 'diff2_7', 'diff2_8', 'diff2_9',\n",
       "       'diff2_10', 'diff2_11', 'diff2_12', 'diff2_13', 'diff2_14', 'diff2_15',\n",
       "       'diff2_16', 'storage_capacity', 'min_infiltration', 'porosity',\n",
       "       'infiltration', 'humidity_mean', 'humidity_max', 'rn_rn_dur',\n",
       "       'soil_moisture_mean', 'soil_moisture_min', 'soil_moisure_max',\n",
       "       'min_ALTT', 'max_ALTT', 'mean_ALTT', 'min_GRDN', 'max_GRDN',\n",
       "       'mean_GRDN', 'mode_PRRCK_LARG', 'mode_PRRCK_MDDL', 'mode_CLZN',\n",
       "       'mode_TRGRP', 'mode_SLDPT_TPCD', 'mode_FRTP_CD', 'mode_KOFTR_GROU',\n",
       "       'mode_LDMARK_STN', 'diff_LARG', 'mode_SCSTX', 'mode_SLTP', 'NRCS',\n",
       "       'soil_group', 'stormday', 'stormday1', 'stormday2', 'month', '1day_yn',\n",
       "       '2day_yn'],\n",
       "      dtype='object')"
      ]
     },
     "execution_count": 10,
     "metadata": {},
     "output_type": "execute_result"
    }
   ],
   "source": [
    "data0.columns"
   ]
  },
  {
   "cell_type": "code",
   "execution_count": 11,
   "metadata": {},
   "outputs": [],
   "source": [
    "a=['aws_sum_rn', 'aws_sum_rn_dur',\n",
    "       'aws_hr1_max_rn', 'aws_avg_tca', 'aws_avg_ps', 'aws_max_ps',\n",
    "       'aws_min_ps', 'aws_avg_rhm', 'aws_min_rhm', 'aws_avg_ws', 'aws_max_ws',\n",
    "       'aws_max_ins_ws', 'asos_sum_rn', 'asos_avg_rhm', 'asos_avg_td',\n",
    "       'asos_avg_ws', 'diff1', 'diff2', 'diff3', 'diff4', 'diff5', 'diff6',\n",
    "       'diff7', 'diff8', 'diff9', 'diff10', 'diff11', 'diff12', 'diff13',\n",
    "       'diff14', 'diff15', 'diff16', 'diff2_1', 'diff2_2', 'diff2_3',\n",
    "       'diff2_4', 'diff2_5', 'diff2_6', 'diff2_7', 'diff2_8', 'diff2_9',\n",
    "       'diff2_10', 'diff2_11', 'diff2_12', 'diff2_13', 'diff2_14', 'diff2_15',\n",
    "       'diff2_16', 'storage_capacity', 'min_infiltration', 'porosity',\n",
    "       'infiltration', 'humidity_mean', 'humidity_max', 'rn_rn_dur',\n",
    "       'soil_moisture_mean', 'soil_moisture_min', 'soil_moisure_max',\n",
    "       'min_ALTT', 'max_ALTT', 'mean_ALTT', 'min_GRDN', 'max_GRDN',\n",
    "       'mean_GRDN']"
   ]
  },
  {
   "cell_type": "code",
   "execution_count": 12,
   "metadata": {},
   "outputs": [],
   "source": [
    "# Outlier Detect\n",
    "\n",
    "from collections import Counter\n",
    "\n",
    "def detect_outliers(df, n, features):\n",
    "    outlier_indices = [] \n",
    "    for col in features:\n",
    "        Q1 = np.percentile(df[col], 25)\n",
    "        Q3 = np.percentile(df[col], 75)\n",
    "        IQR = Q3 - Q1 \n",
    "        \n",
    "        outlier_step = 1.5 * IQR \n",
    "        outlier_list_col = df[(df[col] < Q1 - outlier_step) | (df[col] > Q3 + outlier_step)].index\n",
    "        outlier_indices.extend(outlier_list_col) \n",
    "    outlier_indices = Counter(outlier_indices) \n",
    "    multiple_outliers = list(k for k, v in outlier_indices.items() if v > n) \n",
    "    \n",
    "    return multiple_outliers"
   ]
  },
  {
   "cell_type": "code",
   "execution_count": 13,
   "metadata": {},
   "outputs": [
    {
     "data": {
      "text/plain": [
       "3947"
      ]
     },
     "execution_count": 13,
     "metadata": {},
     "output_type": "execute_result"
    }
   ],
   "source": [
    "# Outlier로 인해 제거할 행 개수\n",
    "len(detect_outliers(data0, 25 , a))"
   ]
  },
  {
   "cell_type": "code",
   "execution_count": 14,
   "metadata": {},
   "outputs": [],
   "source": [
    "outlier_idx=detect_outliers(data0, 25 ,a)\n",
    "data0_outlier=data0.drop(outlier_idx, axis=0, inplace=False)"
   ]
  },
  {
   "cell_type": "code",
   "execution_count": 15,
   "metadata": {},
   "outputs": [],
   "source": [
    "data=pd.concat([data0_outlier,data1])"
   ]
  },
  {
   "cell_type": "code",
   "execution_count": 16,
   "metadata": {},
   "outputs": [
    {
     "data": {
      "text/plain": [
       "(579411, 87)"
      ]
     },
     "execution_count": 16,
     "metadata": {},
     "output_type": "execute_result"
    }
   ],
   "source": [
    "data.shape"
   ]
  },
  {
   "cell_type": "markdown",
   "metadata": {},
   "source": [
    "### Lable Encoding"
   ]
  },
  {
   "cell_type": "code",
   "execution_count": 17,
   "metadata": {},
   "outputs": [
    {
     "data": {
      "text/plain": [
       "(582821, 87)"
      ]
     },
     "execution_count": 17,
     "metadata": {},
     "output_type": "execute_result"
    }
   ],
   "source": [
    "data_sum = pd.concat([data,val])\n",
    "data_sum.shape"
   ]
  },
  {
   "cell_type": "code",
   "execution_count": 18,
   "metadata": {},
   "outputs": [],
   "source": [
    "data_sum[['month','mode_PRRCK_LARG', 'mode_PRRCK_MDDL', 'mode_CLZN',\n",
    "       'mode_TRGRP', 'mode_SLDPT_TPCD', 'mode_FRTP_CD', 'mode_KOFTR_GROU',\n",
    "       'mode_LDMARK_STN', 'diff_LARG', 'mode_SCSTX', 'mode_SLTP', 'NRCS',\n",
    "       'soil_group', 'stormday', 'stormday1', 'stormday2']]=data_sum[['month','mode_PRRCK_LARG', 'mode_PRRCK_MDDL', 'mode_CLZN',\n",
    "       'mode_TRGRP', 'mode_SLDPT_TPCD', 'mode_FRTP_CD', 'mode_KOFTR_GROU',\n",
    "       'mode_LDMARK_STN', 'diff_LARG', 'mode_SCSTX', 'mode_SLTP', 'NRCS',\n",
    "       'soil_group', 'stormday', 'stormday1', 'stormday2']].astype('object')"
   ]
  },
  {
   "cell_type": "code",
   "execution_count": 19,
   "metadata": {},
   "outputs": [
    {
     "data": {
      "text/plain": [
       "(582821, 87)"
      ]
     },
     "execution_count": 19,
     "metadata": {},
     "output_type": "execute_result"
    }
   ],
   "source": [
    "data_sum.shape"
   ]
  },
  {
   "cell_type": "code",
   "execution_count": 20,
   "metadata": {},
   "outputs": [],
   "source": [
    "data_sum = data_sum.iloc[:,4:]"
   ]
  },
  {
   "cell_type": "code",
   "execution_count": 21,
   "metadata": {},
   "outputs": [],
   "source": [
    "object_columns = data_sum.dtypes[data_sum.dtypes == 'object'].index.tolist()\n",
    "for column in object_columns:\n",
    "    data_sum[column] = pd.factorize(data_sum[column])[0]"
   ]
  },
  {
   "cell_type": "code",
   "execution_count": 22,
   "metadata": {},
   "outputs": [],
   "source": [
    "train = data_sum[~data_sum['1day_yn'].isnull()]\n",
    "test = data_sum[data_sum['1day_yn'].isnull()]"
   ]
  },
  {
   "cell_type": "code",
   "execution_count": 23,
   "metadata": {},
   "outputs": [
    {
     "data": {
      "text/plain": [
       "((579411, 83), (3410, 83))"
      ]
     },
     "execution_count": 23,
     "metadata": {},
     "output_type": "execute_result"
    }
   ],
   "source": [
    "train.shape , test.shape"
   ]
  },
  {
   "cell_type": "code",
   "execution_count": 24,
   "metadata": {},
   "outputs": [],
   "source": [
    "test = test.drop(['1day_yn','2day_yn'], axis=1)"
   ]
  },
  {
   "cell_type": "code",
   "execution_count": 25,
   "metadata": {},
   "outputs": [
    {
     "data": {
      "text/plain": [
       "((579411, 83), (3410, 81))"
      ]
     },
     "execution_count": 25,
     "metadata": {},
     "output_type": "execute_result"
    }
   ],
   "source": [
    "train.shape, test.shape"
   ]
  },
  {
   "cell_type": "code",
   "execution_count": 26,
   "metadata": {},
   "outputs": [],
   "source": [
    "X_24 = pd.concat([train.iloc[:,:32],train.iloc[:,48:81]],axis=1)\n",
    "X_48 = pd.concat([train.iloc[:,:16],train.iloc[:,32:81]],axis=1)"
   ]
  },
  {
   "cell_type": "code",
   "execution_count": 27,
   "metadata": {},
   "outputs": [],
   "source": [
    "X_test24 = pd.concat([test.iloc[:,:32],test.iloc[:,48:81]],axis=1)\n",
    "X_test48 = pd.concat([test.iloc[:,:16],test.iloc[:,32:81]],axis=1)"
   ]
  },
  {
   "cell_type": "code",
   "execution_count": 28,
   "metadata": {},
   "outputs": [],
   "source": [
    "y_24 = train['1day_yn']\n",
    "y_48 = train['2day_yn']"
   ]
  },
  {
   "cell_type": "markdown",
   "metadata": {},
   "source": [
    "### Modeling"
   ]
  },
  {
   "cell_type": "code",
   "execution_count": 29,
   "metadata": {},
   "outputs": [],
   "source": [
    "X_train24, X_val24, y_train24, y_val24 = train_test_split(X_24, y_24, test_size = 0.2, random_state = 255)\n",
    "X_train48, X_val48, y_train48, y_val48 = train_test_split(X_48, y_48, test_size = 0.2, random_state = 123123123)"
   ]
  },
  {
   "cell_type": "code",
   "execution_count": 30,
   "metadata": {},
   "outputs": [
    {
     "name": "stdout",
     "output_type": "stream",
     "text": [
      "Training until validation scores don't improve for 100 rounds\n",
      "[100]\ttraining's auc: 0.998435\ttraining's binary_logloss: 0.0021588\tvalid_1's auc: 0.996698\tvalid_1's binary_logloss: 0.00185331\n",
      "[200]\ttraining's auc: 0.999114\ttraining's binary_logloss: 0.00154232\tvalid_1's auc: 0.997245\tvalid_1's binary_logloss: 0.00146759\n",
      "[300]\ttraining's auc: 0.999391\ttraining's binary_logloss: 0.00127895\tvalid_1's auc: 0.997317\tvalid_1's binary_logloss: 0.00133893\n",
      "[400]\ttraining's auc: 0.999569\ttraining's binary_logloss: 0.00111144\tvalid_1's auc: 0.997732\tvalid_1's binary_logloss: 0.00127347\n",
      "[500]\ttraining's auc: 0.999675\ttraining's binary_logloss: 0.00099051\tvalid_1's auc: 0.997987\tvalid_1's binary_logloss: 0.00123769\n",
      "Did not meet early stopping. Best iteration is:\n",
      "[500]\ttraining's auc: 0.999675\ttraining's binary_logloss: 0.00099051\tvalid_1's auc: 0.997987\tvalid_1's binary_logloss: 0.00123769\n"
     ]
    },
    {
     "data": {
      "text/plain": [
       "LGBMClassifier(colsample_bytree=0.79, learning_rate=0.01, max_bin=351,\n",
       "               max_depth=7, min_child_samples=109, min_child_weight=4,\n",
       "               n_estimators=500, num_leaves=48, reg_alpha=1.15, reg_lambda=3.67,\n",
       "               silent=-1, subsample=0.65, verbose=-1)"
      ]
     },
     "execution_count": 30,
     "metadata": {},
     "output_type": "execute_result"
    }
   ],
   "source": [
    "lgbm24 = LGBMClassifier(\n",
    "        n_jobs=-1,\n",
    "        n_estimators=500,\n",
    "        learning_rate=0.01,\n",
    "        num_leaves=48,\n",
    "        subsample=0.65,\n",
    "        colsample_bytree=0.79,\n",
    "        max_depth=7,\n",
    "        max_bin=351,\n",
    "        min_child_samples=109,\n",
    "        min_child_weight=4,\n",
    "        reg_alpha=1.15,\n",
    "        reg_lambda=3.67,\n",
    "        silent=-1,\n",
    "        verbose=-1\n",
    "        )\n",
    "\n",
    "lgbm24.fit(X_train24, y_train24, eval_set=[(X_train24, y_train24), (X_val24, y_val24)], eval_metric= 'auc', verbose= 100, \n",
    "        early_stopping_rounds= 100)"
   ]
  },
  {
   "cell_type": "code",
   "execution_count": 31,
   "metadata": {},
   "outputs": [
    {
     "name": "stdout",
     "output_type": "stream",
     "text": [
      "Training until validation scores don't improve for 100 rounds\n",
      "[100]\ttraining's auc: 0.999896\ttraining's binary_logloss: 0.00100047\tvalid_1's auc: 0.998306\tvalid_1's binary_logloss: 0.00178626\n",
      "Early stopping, best iteration is:\n",
      "[39]\ttraining's auc: 0.998012\ttraining's binary_logloss: 0.00156866\tvalid_1's auc: 0.998378\tvalid_1's binary_logloss: 0.00211535\n"
     ]
    },
    {
     "data": {
      "text/plain": [
       "LGBMClassifier(colsample_bytree=1, learning_rate=0.01, max_depth=7,\n",
       "               n_estimators=500, num_leaves=32, silent=-1, subsample=0.8,\n",
       "               verbose=-1)"
      ]
     },
     "execution_count": 31,
     "metadata": {},
     "output_type": "execute_result"
    }
   ],
   "source": [
    "lgbm48 = LGBMClassifier(\n",
    "        n_jobs=-1,\n",
    "        n_estimators=500,\n",
    "        learning_rate=0.01,\n",
    "        num_leaves=32,\n",
    "        subsample=0.8,\n",
    "        colsample_bytree=1,\n",
    "        max_depth=7,\n",
    "        silent=-1,\n",
    "        verbose=-1\n",
    "        )\n",
    "\n",
    "lgbm48.fit(X_train48, y_train48, eval_set=[(X_train48, y_train48), (X_val48, y_val48)], eval_metric= 'auc', verbose= 100, \n",
    "        early_stopping_rounds= 100)"
   ]
  },
  {
   "cell_type": "code",
   "execution_count": 32,
   "metadata": {},
   "outputs": [],
   "source": [
    "y_pred24=lgbm24.predict(X_val24)\n",
    "y_pred48=lgbm48.predict(X_val48)"
   ]
  },
  {
   "cell_type": "code",
   "execution_count": 33,
   "metadata": {},
   "outputs": [
    {
     "name": "stdout",
     "output_type": "stream",
     "text": [
      "오차 행렬\n",
      "[[115816      9]\n",
      " [    36     22]]\n",
      "정확도: 0.9996, 정밀도: 0.7097, 재현율: 0.3793, F1:0.4944, csi:0.4944\n"
     ]
    }
   ],
   "source": [
    "get_clf_eval(y_val24 , y_pred24)"
   ]
  },
  {
   "cell_type": "code",
   "execution_count": 34,
   "metadata": {},
   "outputs": [
    {
     "name": "stdout",
     "output_type": "stream",
     "text": [
      "오차 행렬\n",
      "[[115811     13]\n",
      " [    42     17]]\n",
      "정확도: 0.9995, 정밀도: 0.5667, 재현율: 0.2881, F1:0.3820, csi:0.3820\n"
     ]
    }
   ],
   "source": [
    "get_clf_eval(y_val48 , y_pred48)"
   ]
  },
  {
   "cell_type": "markdown",
   "metadata": {},
   "source": [
    "### Feature Importance"
   ]
  },
  {
   "cell_type": "code",
   "execution_count": 35,
   "metadata": {},
   "outputs": [
    {
     "data": {
      "image/png": "[encoded data removed]",
      "text/plain": [
       "<Figure size 576x432 with 1 Axes>"
      ]
     },
     "metadata": {
      "needs_background": "light"
     },
     "output_type": "display_data"
    }
   ],
   "source": [
    "ftr_importances_values = lgbm24.feature_importances_\n",
    "ftr_importances = pd.Series(ftr_importances_values,index=X_train24.columns)\n",
    "ftr_top10 = ftr_importances.sort_values(ascending=False)[:10]\n",
    "\n",
    "plt.figure(figsize=(8,6))\n",
    "plt.title('24 Feature importances Top 10')\n",
    "sns.barplot(x=ftr_top10 , y = ftr_top10.index, palette=\"crest\")\n",
    "plt.show()"
   ]
  },
  {
   "cell_type": "code",
   "execution_count": 36,
   "metadata": {},
   "outputs": [
    {
     "data": {
      "image/png": "[encoded data removed]",
      "text/plain": [
       "<Figure size 576x432 with 1 Axes>"
      ]
     },
     "metadata": {
      "needs_background": "light"
     },
     "output_type": "display_data"
    }
   ],
   "source": [
    "ftr_importances_values = lgbm48.feature_importances_\n",
    "ftr_importances = pd.Series(ftr_importances_values,index=X_train48.columns)\n",
    "ftr_top10 = ftr_importances.sort_values(ascending=False)[:10]\n",
    "\n",
    "plt.figure(figsize=(8,6))\n",
    "plt.title('48 Feature importances Top 10')\n",
    "sns.barplot(x=ftr_top10 , y = ftr_top10.index, palette=\"crest\")\n",
    "plt.show()"
   ]
  },
  {
   "cell_type": "markdown",
   "metadata": {},
   "source": [
    "### Predict"
   ]
  },
  {
   "cell_type": "code",
   "execution_count": 37,
   "metadata": {},
   "outputs": [
    {
     "data": {
      "text/plain": [
       "64"
      ]
     },
     "execution_count": 37,
     "metadata": {},
     "output_type": "execute_result"
    }
   ],
   "source": [
    "a=pd.DataFrame(data=lgbm24.predict_proba(X_test24)[:,1],columns={'prob24'})\n",
    "pred1=np.where(a['prob24'] >= 0.0017, 1, 0)\n",
    "pred1.sum()"
   ]
  },
  {
   "cell_type": "code",
   "execution_count": 38,
   "metadata": {},
   "outputs": [
    {
     "data": {
      "text/plain": [
       "142"
      ]
     },
     "execution_count": 38,
     "metadata": {},
     "output_type": "execute_result"
    }
   ],
   "source": [
    "b=pd.DataFrame(data=lgbm48.predict_proba(X_test48)[:,1],columns={'prob48'})\n",
    "pred2=np.where(b['prob48'] >=0.0018, 1, 0)\n",
    "pred2.sum()"
   ]
  },
  {
   "cell_type": "code",
   "execution_count": 39,
   "metadata": {},
   "outputs": [
    {
     "data": {
      "text/html": [
       "<div>\n",
       "<style scoped>\n",
       "    .dataframe tbody tr th:only-of-type {\n",
       "        vertical-align: middle;\n",
       "    }\n",
       "\n",
       "    .dataframe tbody tr th {\n",
       "        vertical-align: top;\n",
       "    }\n",
       "\n",
       "    .dataframe thead th {\n",
       "        text-align: right;\n",
       "    }\n",
       "</style>\n",
       "<table border=\"1\" class=\"dataframe\">\n",
       "  <thead>\n",
       "    <tr style=\"text-align: right;\">\n",
       "      <th></th>\n",
       "      <th>1day_yn</th>\n",
       "      <th>2day_yn</th>\n",
       "    </tr>\n",
       "  </thead>\n",
       "  <tbody>\n",
       "    <tr>\n",
       "      <th>0</th>\n",
       "      <td>0</td>\n",
       "      <td>0</td>\n",
       "    </tr>\n",
       "    <tr>\n",
       "      <th>1</th>\n",
       "      <td>0</td>\n",
       "      <td>0</td>\n",
       "    </tr>\n",
       "    <tr>\n",
       "      <th>2</th>\n",
       "      <td>0</td>\n",
       "      <td>0</td>\n",
       "    </tr>\n",
       "    <tr>\n",
       "      <th>3</th>\n",
       "      <td>0</td>\n",
       "      <td>0</td>\n",
       "    </tr>\n",
       "    <tr>\n",
       "      <th>4</th>\n",
       "      <td>0</td>\n",
       "      <td>0</td>\n",
       "    </tr>\n",
       "  </tbody>\n",
       "</table>\n",
       "</div>"
      ],
      "text/plain": [
       "   1day_yn  2day_yn\n",
       "0        0        0\n",
       "1        0        0\n",
       "2        0        0\n",
       "3        0        0\n",
       "4        0        0"
      ]
     },
     "execution_count": 39,
     "metadata": {},
     "output_type": "execute_result"
    }
   ],
   "source": [
    "result=pd.DataFrame({'1day_yn':pred1, '2day_yn':pred2})\n",
    "result.head() #1일뒤,2일뒤 산사태여부 예측값"
   ]
  },
  {
   "cell_type": "code",
   "execution_count": 40,
   "metadata": {},
   "outputs": [],
   "source": [
    "final=pd.read_csv('검증셋.csv',encoding='euc_kr') #제출할 검증셋 불러오기\n",
    "final['1day_yn']=result['1day_yn']\n",
    "final['2day_yn']=result['2day_yn']\n",
    "final.to_csv('210124.csv',encoding='euc_kr',index=False) #제출본 완성"
   ]
  },
  {
   "cell_type": "code",
   "execution_count": null,
   "metadata": {},
   "outputs": [],
   "source": []
  }
 ],
 "metadata": {
  "kernelspec": {
   "display_name": "Python 3",
   "language": "python",
   "name": "python3"
  },
  "language_info": {
   "codemirror_mode": {
    "name": "ipython",
    "version": 3
   },
   "file_extension": ".py",
   "mimetype": "text/x-python",
   "name": "python",
   "nbconvert_exporter": "python",
   "pygments_lexer": "ipython3",
   "version": "3.8.5"
  }
 },
 "nbformat": 4,
 "nbformat_minor": 5
}
